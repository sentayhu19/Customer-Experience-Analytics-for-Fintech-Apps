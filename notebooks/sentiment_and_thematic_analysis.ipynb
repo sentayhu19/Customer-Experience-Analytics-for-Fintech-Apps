{
 "cells": [
  {
   "cell_type": "markdown",
   "id": "b7b167fd",
   "metadata": {},
   "source": [
    "Sentiment and Thematic Analysis"
   ]
  },
  {
   "cell_type": "code",
   "execution_count": null,
   "id": "0c05abc7",
   "metadata": {
    "vscode": {
     "languageId": "plaintext"
    }
   },
   "outputs": [],
   "source": [
    "# 1. Imports\n",
    "import pandas as pd\n",
    "from src.processing.sentiment_analysis import add_sentiment, aggregate_sentiment\n",
    "from src.processing.theme_extraction import assign_themes\n"
   ]
  },
  {
   "cell_type": "code",
   "execution_count": null,
   "id": "001ec9f5",
   "metadata": {
    "vscode": {
     "languageId": "plaintext"
    }
   },
   "outputs": [],
   "source": [
    "# 2. Load Cleaned Reviews\n",
    "df = pd.read_csv(\"../data/clean_reviews.csv\")\n",
    "df.head()"
   ]
  },
  {
   "cell_type": "code",
   "execution_count": null,
   "id": "99379118",
   "metadata": {
    "vscode": {
     "languageId": "plaintext"
    }
   },
   "outputs": [],
   "source": [
    "df = add_sentiment(df)\n",
    "df[[\"review\", \"sentiment_label\", \"sentiment_score\"]].head()\n"
   ]
  },
  {
   "cell_type": "code",
   "execution_count": null,
   "id": "72ce5fc3",
   "metadata": {
    "vscode": {
     "languageId": "plaintext"
    }
   },
   "outputs": [],
   "source": [
    "agg = aggregate_sentiment(df)\n",
    "agg.head()"
   ]
  },
  {
   "cell_type": "code",
   "execution_count": null,
   "id": "55be13e6",
   "metadata": {
    "vscode": {
     "languageId": "plaintext"
    }
   },
   "outputs": [],
   "source": [
    "themes = assign_themes(df)\n",
    "themes"
   ]
  },
  {
   "cell_type": "code",
   "execution_count": null,
   "id": "843ca961",
   "metadata": {
    "vscode": {
     "languageId": "plaintext"
    }
   },
   "outputs": [],
   "source": [
    "df.to_csv(\"../data/reviews_with_sentiment.csv\", index=False)\n",
    "agg.to_csv(\"../data/sentiment_aggregate.csv\", index=False)"
   ]
  }
 ],
 "metadata": {
  "language_info": {
   "name": "python"
  }
 },
 "nbformat": 4,
 "nbformat_minor": 5
}
