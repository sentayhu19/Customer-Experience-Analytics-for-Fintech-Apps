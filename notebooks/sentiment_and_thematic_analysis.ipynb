{
 "cells": [
  {
   "cell_type": "markdown",
   "id": "b7b167fd",
   "metadata": {},
   "source": [
    "Sentiment and Thematic Analysis"
   ]
  },
  {
   "cell_type": "code",
   "execution_count": 6,
   "id": "0c05abc7",
   "metadata": {},
   "outputs": [],
   "source": [
    "import sys\n",
    "import os\n",
    "sys.path.append(os.path.abspath(os.path.join(os.getcwd(), \"../src\")))\n",
    "\n",
    "from processing.sentiment_analysis import add_sentiment, aggregate_sentiment\n",
    "from processing.theme_extraction import assign_themes"
   ]
  },
  {
   "cell_type": "code",
   "execution_count": 7,
   "id": "001ec9f5",
   "metadata": {},
   "outputs": [
    {
     "data": {
      "text/html": [
       "<div>\n",
       "<style scoped>\n",
       "    .dataframe tbody tr th:only-of-type {\n",
       "        vertical-align: middle;\n",
       "    }\n",
       "\n",
       "    .dataframe tbody tr th {\n",
       "        vertical-align: top;\n",
       "    }\n",
       "\n",
       "    .dataframe thead th {\n",
       "        text-align: right;\n",
       "    }\n",
       "</style>\n",
       "<table border=\"1\" class=\"dataframe\">\n",
       "  <thead>\n",
       "    <tr style=\"text-align: right;\">\n",
       "      <th></th>\n",
       "      <th>review</th>\n",
       "      <th>rating</th>\n",
       "      <th>date</th>\n",
       "      <th>bank</th>\n",
       "      <th>source</th>\n",
       "    </tr>\n",
       "  </thead>\n",
       "  <tbody>\n",
       "    <tr>\n",
       "      <th>0</th>\n",
       "      <td>The previous version is much better than this ...</td>\n",
       "      <td>2</td>\n",
       "      <td>2021-01-01</td>\n",
       "      <td>Commercial Bank of Ethiopia</td>\n",
       "      <td>Google Play</td>\n",
       "    </tr>\n",
       "    <tr>\n",
       "      <th>1</th>\n",
       "      <td>The good thing is its simplicity to undertake ...</td>\n",
       "      <td>3</td>\n",
       "      <td>2023-03-15</td>\n",
       "      <td>Commercial Bank of Ethiopia</td>\n",
       "      <td>Google Play</td>\n",
       "    </tr>\n",
       "    <tr>\n",
       "      <th>2</th>\n",
       "      <td>The updated app is attractive and is working v...</td>\n",
       "      <td>4</td>\n",
       "      <td>2020-07-25</td>\n",
       "      <td>Commercial Bank of Ethiopia</td>\n",
       "      <td>Google Play</td>\n",
       "    </tr>\n",
       "    <tr>\n",
       "      <th>3</th>\n",
       "      <td>I love this app. It's simple to use and syncs ...</td>\n",
       "      <td>5</td>\n",
       "      <td>2021-09-25</td>\n",
       "      <td>Commercial Bank of Ethiopia</td>\n",
       "      <td>Google Play</td>\n",
       "    </tr>\n",
       "    <tr>\n",
       "      <th>4</th>\n",
       "      <td>It is a service that is not expected from such...</td>\n",
       "      <td>1</td>\n",
       "      <td>2024-10-16</td>\n",
       "      <td>Commercial Bank of Ethiopia</td>\n",
       "      <td>Google Play</td>\n",
       "    </tr>\n",
       "  </tbody>\n",
       "</table>\n",
       "</div>"
      ],
      "text/plain": [
       "                                              review  rating        date  \\\n",
       "0  The previous version is much better than this ...       2  2021-01-01   \n",
       "1  The good thing is its simplicity to undertake ...       3  2023-03-15   \n",
       "2  The updated app is attractive and is working v...       4  2020-07-25   \n",
       "3  I love this app. It's simple to use and syncs ...       5  2021-09-25   \n",
       "4  It is a service that is not expected from such...       1  2024-10-16   \n",
       "\n",
       "                          bank       source  \n",
       "0  Commercial Bank of Ethiopia  Google Play  \n",
       "1  Commercial Bank of Ethiopia  Google Play  \n",
       "2  Commercial Bank of Ethiopia  Google Play  \n",
       "3  Commercial Bank of Ethiopia  Google Play  \n",
       "4  Commercial Bank of Ethiopia  Google Play  "
      ]
     },
     "execution_count": 7,
     "metadata": {},
     "output_type": "execute_result"
    }
   ],
   "source": [
    "# 2. Load Cleaned Reviews\n",
    "df = pd.read_csv(\"../data/sample_clean_reviews.csv\") \n",
    "df.head()"
   ]
  },
  {
   "cell_type": "code",
   "execution_count": 8,
   "id": "99379118",
   "metadata": {},
   "outputs": [
    {
     "data": {
      "text/html": [
       "<div>\n",
       "<style scoped>\n",
       "    .dataframe tbody tr th:only-of-type {\n",
       "        vertical-align: middle;\n",
       "    }\n",
       "\n",
       "    .dataframe tbody tr th {\n",
       "        vertical-align: top;\n",
       "    }\n",
       "\n",
       "    .dataframe thead th {\n",
       "        text-align: right;\n",
       "    }\n",
       "</style>\n",
       "<table border=\"1\" class=\"dataframe\">\n",
       "  <thead>\n",
       "    <tr style=\"text-align: right;\">\n",
       "      <th></th>\n",
       "      <th>review</th>\n",
       "      <th>sentiment_label</th>\n",
       "      <th>sentiment_score</th>\n",
       "    </tr>\n",
       "  </thead>\n",
       "  <tbody>\n",
       "    <tr>\n",
       "      <th>0</th>\n",
       "      <td>The previous version is much better than this ...</td>\n",
       "      <td>negative</td>\n",
       "      <td>0.999113</td>\n",
       "    </tr>\n",
       "    <tr>\n",
       "      <th>1</th>\n",
       "      <td>The good thing is its simplicity to undertake ...</td>\n",
       "      <td>negative</td>\n",
       "      <td>0.992057</td>\n",
       "    </tr>\n",
       "    <tr>\n",
       "      <th>2</th>\n",
       "      <td>The updated app is attractive and is working v...</td>\n",
       "      <td>positive</td>\n",
       "      <td>0.999179</td>\n",
       "    </tr>\n",
       "    <tr>\n",
       "      <th>3</th>\n",
       "      <td>I love this app. It's simple to use and syncs ...</td>\n",
       "      <td>positive</td>\n",
       "      <td>0.996824</td>\n",
       "    </tr>\n",
       "    <tr>\n",
       "      <th>4</th>\n",
       "      <td>It is a service that is not expected from such...</td>\n",
       "      <td>negative</td>\n",
       "      <td>0.999564</td>\n",
       "    </tr>\n",
       "  </tbody>\n",
       "</table>\n",
       "</div>"
      ],
      "text/plain": [
       "                                              review sentiment_label  \\\n",
       "0  The previous version is much better than this ...        negative   \n",
       "1  The good thing is its simplicity to undertake ...        negative   \n",
       "2  The updated app is attractive and is working v...        positive   \n",
       "3  I love this app. It's simple to use and syncs ...        positive   \n",
       "4  It is a service that is not expected from such...        negative   \n",
       "\n",
       "   sentiment_score  \n",
       "0         0.999113  \n",
       "1         0.992057  \n",
       "2         0.999179  \n",
       "3         0.996824  \n",
       "4         0.999564  "
      ]
     },
     "execution_count": 8,
     "metadata": {},
     "output_type": "execute_result"
    }
   ],
   "source": [
    "df = add_sentiment(df)\n",
    "df[[\"review\", \"sentiment_label\", \"sentiment_score\"]].head()\n"
   ]
  },
  {
   "cell_type": "code",
   "execution_count": 9,
   "id": "72ce5fc3",
   "metadata": {},
   "outputs": [
    {
     "data": {
      "text/html": [
       "<div>\n",
       "<style scoped>\n",
       "    .dataframe tbody tr th:only-of-type {\n",
       "        vertical-align: middle;\n",
       "    }\n",
       "\n",
       "    .dataframe tbody tr th {\n",
       "        vertical-align: top;\n",
       "    }\n",
       "\n",
       "    .dataframe thead th {\n",
       "        text-align: right;\n",
       "    }\n",
       "</style>\n",
       "<table border=\"1\" class=\"dataframe\">\n",
       "  <thead>\n",
       "    <tr style=\"text-align: right;\">\n",
       "      <th></th>\n",
       "      <th>bank</th>\n",
       "      <th>rating</th>\n",
       "      <th>sentiment_score</th>\n",
       "    </tr>\n",
       "  </thead>\n",
       "  <tbody>\n",
       "    <tr>\n",
       "      <th>0</th>\n",
       "      <td>Bank of Abyssinia</td>\n",
       "      <td>1</td>\n",
       "      <td>0.988838</td>\n",
       "    </tr>\n",
       "    <tr>\n",
       "      <th>1</th>\n",
       "      <td>Bank of Abyssinia</td>\n",
       "      <td>2</td>\n",
       "      <td>0.981547</td>\n",
       "    </tr>\n",
       "    <tr>\n",
       "      <th>2</th>\n",
       "      <td>Bank of Abyssinia</td>\n",
       "      <td>3</td>\n",
       "      <td>0.990262</td>\n",
       "    </tr>\n",
       "    <tr>\n",
       "      <th>3</th>\n",
       "      <td>Bank of Abyssinia</td>\n",
       "      <td>4</td>\n",
       "      <td>0.978465</td>\n",
       "    </tr>\n",
       "    <tr>\n",
       "      <th>4</th>\n",
       "      <td>Bank of Abyssinia</td>\n",
       "      <td>5</td>\n",
       "      <td>0.978058</td>\n",
       "    </tr>\n",
       "  </tbody>\n",
       "</table>\n",
       "</div>"
      ],
      "text/plain": [
       "                bank  rating  sentiment_score\n",
       "0  Bank of Abyssinia       1         0.988838\n",
       "1  Bank of Abyssinia       2         0.981547\n",
       "2  Bank of Abyssinia       3         0.990262\n",
       "3  Bank of Abyssinia       4         0.978465\n",
       "4  Bank of Abyssinia       5         0.978058"
      ]
     },
     "execution_count": 9,
     "metadata": {},
     "output_type": "execute_result"
    }
   ],
   "source": [
    "agg = aggregate_sentiment(df)\n",
    "agg.head()"
   ]
  },
  {
   "cell_type": "code",
   "execution_count": 10,
   "id": "55be13e6",
   "metadata": {},
   "outputs": [
    {
     "name": "stderr",
     "output_type": "stream",
     "text": [
      "C:\\Users\\senta\\AppData\\Roaming\\Python\\Python312\\site-packages\\sklearn\\feature_extraction\\text.py:408: UserWarning: Your stop_words may be inconsistent with your preprocessing. Tokenizing the stop words generated tokens ['ll', 've'] not in stop_words.\n",
      "  warnings.warn(\n"
     ]
    },
    {
     "data": {
      "text/plain": [
       "{'Other': ['app',\n",
       "  'good',\n",
       "  'work',\n",
       "  'bank',\n",
       "  'use',\n",
       "  'update',\n",
       "  'banking',\n",
       "  'good app',\n",
       "  'easy',\n",
       "  'time',\n",
       "  'application',\n",
       "  'fast',\n",
       "  'dashen',\n",
       "  'bad',\n",
       "  'mobile',\n",
       "  'fix',\n",
       "  'need'],\n",
       " 'Transaction Performance': ['transaction', 'transfer'],\n",
       " 'User Interface & Experience': ['crash']}"
      ]
     },
     "execution_count": 10,
     "metadata": {},
     "output_type": "execute_result"
    }
   ],
   "source": [
    "themes = assign_themes(df)\n",
    "themes"
   ]
  },
  {
   "cell_type": "code",
   "execution_count": 11,
   "id": "843ca961",
   "metadata": {},
   "outputs": [],
   "source": [
    "df.to_csv(\"../data/reviews_with_sentiment.csv\", index=False)\n",
    "agg.to_csv(\"../data/sentiment_aggregate.csv\", index=False)"
   ]
  }
 ],
 "metadata": {
  "kernelspec": {
   "display_name": "Python 3",
   "language": "python",
   "name": "python3"
  },
  "language_info": {
   "codemirror_mode": {
    "name": "ipython",
    "version": 3
   },
   "file_extension": ".py",
   "mimetype": "text/x-python",
   "name": "python",
   "nbconvert_exporter": "python",
   "pygments_lexer": "ipython3",
   "version": "3.12.4"
  }
 },
 "nbformat": 4,
 "nbformat_minor": 5
}
